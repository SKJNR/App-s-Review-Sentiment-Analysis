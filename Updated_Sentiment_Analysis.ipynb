{
  "nbformat": 4,
  "nbformat_minor": 0,
  "metadata": {
    "colab": {
      "provenance": []
    },
    "kernelspec": {
      "name": "python3",
      "display_name": "Python 3"
    },
    "language_info": {
      "name": "python"
    }
  },
  "cells": [
    {
      "cell_type": "code",
      "source": [
        "# Import necessary libraries\n",
        "import pandas as pd\n",
        "import re\n",
        "import numpy as np\n",
        "import nltk\n",
        "from nltk.corpus import stopwords\n",
        "from nltk.stem import WordNetLemmatizer\n",
        "from textblob import TextBlob\n",
        "from sklearn.feature_extraction.text import TfidfVectorizer\n",
        "from sklearn.model_selection import train_test_split\n",
        "from sklearn.ensemble import RandomForestClassifier\n",
        "from sklearn.metrics import accuracy_score, classification_report\n",
        "from imblearn.over_sampling import SMOTE  # Import SMOTE\n",
        "from tabulate import tabulate\n",
        "\n",
        "# Download NLTK data\n",
        "nltk.download('stopwords', quiet=True)\n",
        "nltk.download('wordnet', quiet=True)\n",
        "\n",
        "# Text cleaning function\n",
        "def clean_text(text):\n",
        "    if isinstance(text, str):\n",
        "        text = re.sub(r'[^\\w\\s]', '', text)  # Remove emoticons and non-alphabetical characters\n",
        "        text = text.lower()\n",
        "        stop_words = set(stopwords.words('english'))\n",
        "        words = [word for word in text.split() if word not in stop_words]\n",
        "        lemmatizer = WordNetLemmatizer()\n",
        "        words = [lemmatizer.lemmatize(word) for word in words]\n",
        "        return ' '.join(words)\n",
        "    else:\n",
        "        return ''\n",
        "\n",
        "# Function to load and preprocess data\n",
        "def load_and_preprocess_data(file_path):\n",
        "    df = pd.read_csv(file_path)\n",
        "    df = df[['review_description', 'rating']]\n",
        "    df['review_description'] = df['review_description'].astype(str)\n",
        "    df['cleaned_review'] = df['review_description'].apply(clean_text)\n",
        "    return df\n",
        "\n",
        "# Function to calculate sentiment score using TextBlob and convert to rating scale\n",
        "def calculate_textblob_sentiment_and_convert_to_rating(df):\n",
        "    # Apply TextBlob to calculate sentiment polarity for each review\n",
        "    df['sentiment_score'] = df['cleaned_review'].apply(lambda x: TextBlob(x).sentiment.polarity)\n",
        "\n",
        "    # Convert sentiment polarity (-1 to 1) to a rating (1 to 5)\n",
        "    df['converted_sentiment_rating'] = df['sentiment_score'].apply(lambda x: ((x + 1) * 2) + 1)\n",
        "\n",
        "    return df\n",
        "\n",
        "# Function to compare sentiment scores (converted) with app ratings\n",
        "def compare_sentiment_with_ratings(df):\n",
        "    # Calculate overall numeric rating\n",
        "    overall_rating = df['rating'].mean()\n",
        "\n",
        "    # Calculate average converted sentiment rating\n",
        "    average_sentiment_rating = df['converted_sentiment_rating'].mean()\n",
        "\n",
        "    # Print the comparison\n",
        "    print(\"\\n--- App Rating vs. Converted Sentiment Rating ---\")\n",
        "    print(f\"Overall Numeric Rating: {overall_rating:.2f}\")\n",
        "    print(f\"Average Sentiment Rating (Converted): {average_sentiment_rating:.2f}\")\n",
        "\n",
        "    # Identify discrepancies\n",
        "    discrepancy = overall_rating - average_sentiment_rating\n",
        "    print(f\"\\nDiscrepancy between numeric rating and sentiment-based rating: {discrepancy:.2f}\")\n",
        "    if discrepancy > 0:\n",
        "        print(\"The numeric rating is higher than the sentiment-based rating.\")\n",
        "    elif discrepancy < 0:\n",
        "        print(\"The sentiment-based rating is higher than the numeric rating.\")\n",
        "    else:\n",
        "        print(\"The numeric rating and sentiment-based rating are in agreement.\")\n",
        "\n",
        "    # Save insights to a CSV\n",
        "    df[['review_description', 'rating', 'sentiment_score', 'converted_sentiment_rating']].to_csv('rating_sentiment_comparison_converted.csv', index=False)\n",
        "    print(\"\\nThe comparison results have been saved to 'rating_sentiment_comparison_converted.csv'.\")\n",
        "\n",
        "# Main function\n",
        "def main_textblob_sentiment_analysis_with_conversion(file_path):\n",
        "    # Load and preprocess data\n",
        "    df = load_and_preprocess_data(file_path)\n",
        "\n",
        "    # Calculate sentiment using TextBlob and convert to a rating scale\n",
        "    df = calculate_textblob_sentiment_and_convert_to_rating(df)\n",
        "\n",
        "    # Compare the converted sentiment ratings with the app ratings\n",
        "    compare_sentiment_with_ratings(df)\n",
        "\n",
        "# Example usage\n",
        "main_textblob_sentiment_analysis_with_conversion('/content/fitbit.csv')\n"
      ],
      "metadata": {
        "colab": {
          "base_uri": "https://localhost:8080/"
        },
        "id": "6rHyijAPyAQF",
        "outputId": "73ed523c-c575-42f2-ed8f-cb46ecf20323"
      },
      "execution_count": null,
      "outputs": [
        {
          "output_type": "stream",
          "name": "stdout",
          "text": [
            "\n",
            "--- App Rating vs. Converted Sentiment Rating ---\n",
            "Overall Numeric Rating: 3.29\n",
            "Average Sentiment Rating (Converted): 3.44\n",
            "\n",
            "Discrepancy between numeric rating and sentiment-based rating: -0.15\n",
            "The sentiment-based rating is higher than the numeric rating.\n",
            "\n",
            "The comparison results have been saved to 'rating_sentiment_comparison_converted.csv'.\n"
          ]
        }
      ]
    },
    {
      "cell_type": "code",
      "source": [],
      "metadata": {
        "id": "LHFjdNVaybcf"
      },
      "execution_count": null,
      "outputs": []
    }
  ]
}